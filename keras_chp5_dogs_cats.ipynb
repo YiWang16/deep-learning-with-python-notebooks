{
 "cells": [
  {
   "cell_type": "code",
   "execution_count": 1,
   "metadata": {},
   "outputs": [
    {
     "name": "stderr",
     "output_type": "stream",
     "text": [
      "Using TensorFlow backend.\n"
     ]
    }
   ],
   "source": [
    "from keras import layers\n",
    "from keras import models"
   ]
  },
  {
   "cell_type": "code",
   "execution_count": 2,
   "metadata": {},
   "outputs": [],
   "source": [
    "def build_model():\n",
    "    model = models.Sequential()\n",
    "    model.add(layers.Conv2D(32, (3, 3), activation='relu', input_shape=(28, 28, 1)))\n",
    "    model.add(layers.MaxPool2D((2,2)))\n",
    "    model.add(layers.Conv2D(64, (3, 3), activation='relu'))\n",
    "    model.add(layers.MaxPool2D((2, 2)))\n",
    "    model.add(layers.Conv2D(64, (3, 3), activation='relu'))\n",
    "    model.add(layers.Flatten())\n",
    "    model.add(layers.Dense(64, activation='relu'))\n",
    "    model.add(layers.Dense(10, activation='softmax'))\n",
    "    return model "
   ]
  },
  {
   "cell_type": "code",
   "execution_count": 3,
   "metadata": {},
   "outputs": [
    {
     "name": "stdout",
     "output_type": "stream",
     "text": [
      "_________________________________________________________________\n",
      "Layer (type)                 Output Shape              Param #   \n",
      "=================================================================\n",
      "conv2d_1 (Conv2D)            (None, 26, 26, 32)        320       \n",
      "_________________________________________________________________\n",
      "max_pooling2d_1 (MaxPooling2 (None, 13, 13, 32)        0         \n",
      "_________________________________________________________________\n",
      "conv2d_2 (Conv2D)            (None, 11, 11, 64)        18496     \n",
      "_________________________________________________________________\n",
      "max_pooling2d_2 (MaxPooling2 (None, 5, 5, 64)          0         \n",
      "_________________________________________________________________\n",
      "conv2d_3 (Conv2D)            (None, 3, 3, 64)          36928     \n",
      "_________________________________________________________________\n",
      "flatten_1 (Flatten)          (None, 576)               0         \n",
      "_________________________________________________________________\n",
      "dense_1 (Dense)              (None, 64)                36928     \n",
      "_________________________________________________________________\n",
      "dense_2 (Dense)              (None, 10)                650       \n",
      "=================================================================\n",
      "Total params: 93,322\n",
      "Trainable params: 93,322\n",
      "Non-trainable params: 0\n",
      "_________________________________________________________________\n",
      "None\n"
     ]
    }
   ],
   "source": [
    "model = build_model()\n",
    "print(model.summary())"
   ]
  },
  {
   "cell_type": "code",
   "execution_count": 4,
   "metadata": {},
   "outputs": [
    {
     "name": "stdout",
     "output_type": "stream",
     "text": [
      "(60000, 28, 28) (60000,) (10000, 28, 28) (10000,)\n",
      "[60000    28    28     1]\n",
      "(60000, 28, 28, 1)\n",
      "(10000, 28, 28, 1)\n",
      "(60000, 10) (10000, 10)\n"
     ]
    }
   ],
   "source": [
    "from keras.datasets import mnist\n",
    "from keras.utils import to_categorical\n",
    "(train_images, train_labels), (test_images, test_labels) = mnist.load_data()\n",
    "print(train_images.shape, train_labels.shape, test_images.shape, test_labels.shape)\n",
    "\n",
    "import numpy as np\n",
    "def add_dim_1 (shape):\n",
    "    return np.concatenate( [np.array(shape), np.array((1,))] )\n",
    "tis = add_dim_1(train_images.shape)\n",
    "print(tis)\n",
    "train_images = train_images.reshape(add_dim_1(train_images.shape))\n",
    "test_images = test_images.reshape(add_dim_1(test_images.shape))\n",
    "print(train_images.shape)\n",
    "print(test_images.shape)\n",
    "train_labels = to_categorical(train_labels)\n",
    "test_labels = to_categorical(test_labels)\n",
    "print(train_labels.shape, test_labels.shape)"
   ]
  },
  {
   "cell_type": "code",
   "execution_count": 5,
   "metadata": {},
   "outputs": [
    {
     "name": "stdout",
     "output_type": "stream",
     "text": [
      "Epoch 1/5\n",
      "60000/60000 [==============================] - 6s 108us/step - loss: 14.4314 - acc: 0.1045\n",
      "Epoch 2/5\n",
      "60000/60000 [==============================] - 3s 48us/step - loss: 14.4351 - acc: 0.1044\n",
      "Epoch 3/5\n",
      "60000/60000 [==============================] - 3s 48us/step - loss: 14.4351 - acc: 0.1044\n",
      "Epoch 4/5\n",
      "60000/60000 [==============================] - 3s 48us/step - loss: 14.4351 - acc: 0.1044\n",
      "Epoch 5/5\n",
      "60000/60000 [==============================] - 3s 48us/step - loss: 14.4351 - acc: 0.1044\n"
     ]
    },
    {
     "data": {
      "text/plain": [
       "<keras.callbacks.History at 0x7f50aa5e3978>"
      ]
     },
     "execution_count": 5,
     "metadata": {},
     "output_type": "execute_result"
    }
   ],
   "source": [
    "model.compile(optimizer='rmsprop', loss='categorical_crossentropy', metrics=['accuracy'])\n",
    "model.fit(train_images, train_labels, epochs=5, batch_size=64)"
   ]
  },
  {
   "cell_type": "code",
   "execution_count": 6,
   "metadata": {},
   "outputs": [
    {
     "name": "stdout",
     "output_type": "stream",
     "text": [
      "10000/10000 [==============================] - 0s 35us/step\n",
      "14.461155032348632 0.1028\n"
     ]
    }
   ],
   "source": [
    "test_loss, test_acc = model.evaluate(test_images, test_labels)\n",
    "print(test_loss, test_acc)"
   ]
  },
  {
   "cell_type": "code",
   "execution_count": 7,
   "metadata": {},
   "outputs": [
    {
     "name": "stdout",
     "output_type": "stream",
     "text": [
      "[0. 0. 0. 0. 0. 0. 0. 0. 0. 1.]\n",
      "(28, 28, 1)\n",
      "[28 28  1  1]\n",
      "(1, 28, 28, 1)\n",
      "(28, 28, 1)\n",
      "[[0. 0. 0. 0. 0. 0. 0. 1. 0. 0.]]\n",
      "7\n"
     ]
    }
   ],
   "source": [
    "import matplotlib.pyplot as plt\n",
    "idx = 12\n",
    "print(test_labels[idx])\n",
    "print(test_images[idx].shape)\n",
    "print(add_dim_1(test_images[idx].shape))\n",
    "plt.imshow(test_images[idx].reshape(test_images[idx].shape[0:2]), cmap='gray')\n",
    "pred_ar = test_images[idx:idx+1]\n",
    "print(pred_ar.shape)\n",
    "print(pred_ar[0].shape)\n",
    "plt.figure()\n",
    "plt.imshow(pred_ar[0].reshape(pred_ar[0].shape[0:2]), cmap='gray')\n",
    "pred_probs = model.predict(pred_ar)\n",
    "print(pred_probs)\n",
    "print(np.argmax(pred_probs))"
   ]
  },
  {
   "cell_type": "code",
   "execution_count": 22,
   "metadata": {},
   "outputs": [
    {
     "name": "stdout",
     "output_type": "stream",
     "text": [
      "/home/ktdiedrich/Documents/localData/machineLearning/dogs-vs-cats_small/train/cats: 1000\n",
      "/home/ktdiedrich/Documents/localData/machineLearning/dogs-vs-cats_small/train/dogs: 1000\n",
      "/home/ktdiedrich/Documents/localData/machineLearning/dogs-vs-cats_small/validation/cats: 500\n",
      "/home/ktdiedrich/Documents/localData/machineLearning/dogs-vs-cats_small/validation/dogs: 500\n",
      "/home/ktdiedrich/Documents/localData/machineLearning/dogs-vs-cats_small/test/cats: 500\n",
      "/home/ktdiedrich/Documents/localData/machineLearning/dogs-vs-cats_small/test/dogs: 500\n"
     ]
    }
   ],
   "source": [
    "# kaggle competitions download -c dogs-vs-cats\n",
    "import os, shutil\n",
    "original_dataset_dir = '/home/ktdiedrich/.kaggle/competitions/dogs-vs-cats'\n",
    "base_dir = '/home/ktdiedrich/Documents/localData/machineLearning/dogs-vs-cats_small'\n",
    "if not os.path.exists(base_dir):\n",
    "    os.makedirs(base_dir, exist_ok=True)\n",
    "train_dir = os.path.join(base_dir, 'train')\n",
    "test_dir = os.path.join(base_dir, 'test')\n",
    "train_cats_dir = os.path.join\n",
    "validation_dir = os.path.join(base_dir, 'validation')\n",
    "train_cats_dir = os.path.join(train_dir, 'cats')\n",
    "train_dogs_dir = os.path.join(train_dir, 'dogs')\n",
    "validation_cats_dir = os.path.join(validation_dir, 'cats')\n",
    "validation_dogs_dir = os.path.join(validation_dir, 'dogs')\n",
    "test_cats_dir = os.path.join(test_dir, 'cats')\n",
    "test_dogs_dir = os.path.join(test_dir, 'dogs')\n",
    "\n",
    "dir_paths = [train_cats_dir, train_dogs_dir, \n",
    "        validation_cats_dir, validation_dogs_dir, test_cats_dir, test_dogs_dir]\n",
    "\n",
    "for dir_path in dir_paths: \n",
    "    if not os.path.exists(dir_path):\n",
    "        os.makedirs(dir_path, exist_ok=True)\n",
    "import cv2\n",
    "def copy_files(base_name, destination, begin, end, source=original_dataset_dir):\n",
    "    fnames = ['{}.{}.jpg'.format(base_name, i) for i in range(begin, end)]\n",
    "    for fname in fnames:\n",
    "        src = os.path.join(source, fname)\n",
    "        img = cv2.imread(src)\n",
    "        # print(img.shape)\n",
    "        img = cv2.resize(img, (150, 150))\n",
    "        dst = os.path.join(destination, fname)\n",
    "        cv2.imwrite(dst, img)\n",
    "        #shutil.copyfile(src, dst)\n",
    "        \n",
    "data_set_dir = os.path.join(original_dataset_dir, 'train')\n",
    "copy_files(base_name='cat', destination=train_cats_dir, begin=0, end=1000, source=data_set_dir)\n",
    "copy_files(base_name='dog', destination=train_dogs_dir, begin=0, end=1000, source=data_set_dir)\n",
    "\n",
    "copy_files(base_name='cat', destination=validation_cats_dir, begin=1000, end=1500, source=data_set_dir)\n",
    "copy_files(base_name='dog', destination=validation_dogs_dir, begin=1000, end=1500, source=data_set_dir)\n",
    "\n",
    "copy_files(base_name='cat', destination=test_cats_dir, begin=1500, end=2000, source=data_set_dir)\n",
    "copy_files(base_name='dog', destination=test_dogs_dir, begin=1500, end=2000, source=data_set_dir)\n",
    "\n",
    "for dir_path in dir_paths:\n",
    "    print(\"{}: {}\".format(dir_path, len(os.listdir(dir_path))))"
   ]
  },
  {
   "cell_type": "code",
   "execution_count": null,
   "metadata": {},
   "outputs": [],
   "source": [
    "\n"
   ]
  },
  {
   "cell_type": "code",
   "execution_count": null,
   "metadata": {},
   "outputs": [],
   "source": []
  },
  {
   "cell_type": "code",
   "execution_count": null,
   "metadata": {},
   "outputs": [],
   "source": []
  }
 ],
 "metadata": {
  "kernelspec": {
   "display_name": "Python 3",
   "language": "python",
   "name": "python3"
  },
  "language_info": {
   "codemirror_mode": {
    "name": "ipython",
    "version": 3
   },
   "file_extension": ".py",
   "mimetype": "text/x-python",
   "name": "python",
   "nbconvert_exporter": "python",
   "pygments_lexer": "ipython3",
   "version": "3.6.4"
  }
 },
 "nbformat": 4,
 "nbformat_minor": 2
}
